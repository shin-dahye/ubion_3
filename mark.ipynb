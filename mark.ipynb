{
 "cells": [
  {
   "cell_type": "markdown",
   "metadata": {},
   "source": [
    "제목 1\n",
    "===\n",
    "\n",
    "부제목\n",
    "---\n",
    "\n",
    "# h1\n",
    "### h3\n",
    "###### h6\n",
    "\n",
    ">content 1\n",
    ">   >content2\n",
    ">   >   > content 3"
   ]
  },
  {
   "cell_type": "markdown",
   "metadata": {},
   "source": [
    "# list\n",
    "\n",
    "1. 졸려\n",
    "2. 개졸려\n",
    "3. 왕 졸려 \n",
    "\n",
    "- 진짜\n",
    "    - 구해줘\n",
    "        - 안"
   ]
  },
  {
   "cell_type": "markdown",
   "metadata": {},
   "source": [
    "### CODE\n",
    "\n",
    "```\n",
    "i=o\n",
    "i+=1\n",
    "print(i)\n",
    "```"
   ]
  },
  {
   "cell_type": "markdown",
   "metadata": {},
   "source": [
    "[다혜](https://github.com/shin-dahye)"
   ]
  },
  {
   "cell_type": "markdown",
   "metadata": {},
   "source": [
    "![ALt text](https://avatars.githubusercontent.com/u/67717793?v=4)"
   ]
  },
  {
   "cell_type": "markdown",
   "metadata": {},
   "source": [
    "<img src=\"https://avatars.githubusercontent.com/u/67717793?v=4\" width=\"20%\">"
   ]
  },
  {
   "cell_type": "markdown",
   "metadata": {},
   "source": []
  }
 ],
 "metadata": {
  "language_info": {
   "name": "python"
  },
  "orig_nbformat": 4
 },
 "nbformat": 4,
 "nbformat_minor": 2
}
