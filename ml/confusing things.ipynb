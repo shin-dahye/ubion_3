{
 "cells": [
  {
   "cell_type": "markdown",
   "metadata": {},
   "source": [
    "## pandas dataframe"
   ]
  },
  {
   "cell_type": "markdown",
   "metadata": {},
   "source": [
    "#### 열 번호로 drop하기"
   ]
  },
  {
   "cell_type": "markdown",
   "metadata": {},
   "source": [
    "```df.drop(df.columns[[6,7,8]], axis=1, inplace=True)```"
   ]
  },
  {
   "cell_type": "markdown",
   "metadata": {},
   "source": [
    "## matplotlib"
   ]
  },
  {
   "cell_type": "markdown",
   "metadata": {},
   "source": [
    "#### subplot 생성 방법"
   ]
  },
  {
   "cell_type": "markdown",
   "metadata": {},
   "source": [
    "```\n",
    "fig,ax=plt.subplots(1,4)\n",
    "ax[0].plot(white_noise)\n",
    "ax[0].set_title(\"white noise\")\n",
    "ax[1].plot(random_walk)\n",
    "ax[1].set_title(\"Random Walk\")\n",
    "ax[2].plot(random_walk_w_drift)\n",
    "ax[2].set_title(\"Random Walk with drift=3\")\n",
    "ax[3].plot(stationary_ar_1)\n",
    "ax[3].set_title(\"Stationary AR(1)\")\n",
    "```\n",
    "---\n",
    "```\n",
    "fig, axs=plt.subplots(figsize=(16,6),ncols=2,nrows=1, facecolor='w')\n",
    "\n",
    "fig = plot_pacf(df_vst_diff1_diff12,ax=axs[0])\n",
    "fig = plot_acf(df_vst_diff1_diff12,ax=axs[1])\n",
    "```\n",
    "---\n",
    "```\n",
    "fig, axs = plt.subplots(figsize = (16,8), ncols=4, nrows=2)\n",
    "lm_features = ['RM','ZN','INDUS','NOX','AGE','PTRATIO','LSTAT','RAD']\n",
    "for i , feature in enumerate(lm_features):\n",
    "    row = int(i/4)\n",
    "    col = i%4\n",
    "    # 시본의 regplot을 이용해 산점도와 선형 회귀 직선을 함께 표현\n",
    "    sns.regplot(x=feature, y='PRICE', data=bostonDF, ax=axs[row][col])\n",
    "```"
   ]
  },
  {
   "cell_type": "markdown",
   "metadata": {},
   "source": []
  },
  {
   "cell_type": "markdown",
   "metadata": {},
   "source": [
    "## 회귀"
   ]
  },
  {
   "cell_type": "markdown",
   "metadata": {},
   "source": [
    "#### split 예측 mse ~"
   ]
  },
  {
   "cell_type": "markdown",
   "metadata": {},
   "source": [
    "```\n",
    "from sklearn.model_selection import train_test_split\n",
    "from sklearn.linear_model import LinearRegression\n",
    "from sklearn.metrics import mean_squared_error, r2_score\n",
    "\n",
    "y_target = bostonDF['PRICE']\n",
    "X_data = bostonDF.drop(['PRICE'],axis=1,inplace=False)\n",
    "\n",
    "X_train, X_test, y_train, y_test = train_test_split(X_data, y_target, test_size=0.3, random_state=156)\n",
    "\n",
    "#Linear Regression OLS로 학습/예측/평가 수행\n",
    "lr = LinearRegression()\n",
    "lr.fit(X_train, y_train)\n",
    "y_preds = lr.predict(X_test)\n",
    "mse = mean_squared_error(y_test, y_preds)\n",
    "rmse = np.sqrt(mse)\n",
    "\n",
    "print(f'MSE : {mse:.3f}, RMSE : {rmse:.3f}')\n",
    "print(f'Variance score : {r2_score(y_test,y_preds):.3f}')\n",
    "```"
   ]
  },
  {
   "cell_type": "markdown",
   "metadata": {},
   "source": []
  }
 ],
 "metadata": {
  "language_info": {
   "name": "python"
  },
  "orig_nbformat": 4
 },
 "nbformat": 4,
 "nbformat_minor": 2
}
