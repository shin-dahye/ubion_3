{
 "cells": [
  {
   "cell_type": "markdown",
   "metadata": {},
   "source": [
    "#### SVM"
   ]
  },
  {
   "cell_type": "code",
   "execution_count": 2,
   "metadata": {},
   "outputs": [
    {
     "name": "stdout",
     "output_type": "stream",
     "text": [
      "[2 1 2 2 1 2 2 1 2 1 1 0 1 0 2 0 2 1 0 1 0 0 1 2 2 0 2 1 0 0 0 1 1 1 0 1 2\n",
      " 2 1 0 2 2 2 0 2 1 1 0 0 0 1 2 0 2 2 0 2 1 1 1 1 0 0 0 0 1 0 1 2 1 2 2 1 1\n",
      " 2]\n",
      "정확도 : 0.9600\n"
     ]
    }
   ],
   "source": [
    "from sklearn import datasets\n",
    "iris = datasets.load_iris()\n",
    "X = iris.data\n",
    "y = iris.target\n",
    "from sklearn.model_selection import train_test_split\n",
    "X_train, X_test, y_train, y_test = train_test_split(X,y,test_size=0.5)\n",
    "\n",
    "from sklearn import svm\n",
    "clf = svm.SVC(gamma=0.001, C=100)\n",
    "clf.fit(X_train,y_train)\n",
    "predictions = clf.predict(X_test)\n",
    "print(y_test)\n",
    "from sklearn.metrics import accuracy_score\n",
    "print(f'정확도 : {accuracy_score(y_test,predictions):.4f}')"
   ]
  },
  {
   "cell_type": "markdown",
   "metadata": {},
   "source": [
    "#### KNN"
   ]
  },
  {
   "cell_type": "code",
   "execution_count": 4,
   "metadata": {},
   "outputs": [
    {
     "name": "stdout",
     "output_type": "stream",
     "text": [
      "['sepal length (cm)', 'sepal width (cm)', 'petal length (cm)', 'petal width (cm)']\n",
      "['setosa' 'versicolor' 'virginica']\n",
      "[5.1 3.5 1.4 0.2]\n",
      "0\n"
     ]
    }
   ],
   "source": [
    "print(iris.feature_names)\n",
    "print(iris.target_names)\n",
    "print(iris.data[0])\n",
    "print(iris.target[0])\n"
   ]
  },
  {
   "cell_type": "code",
   "execution_count": 6,
   "metadata": {},
   "outputs": [
    {
     "name": "stdout",
     "output_type": "stream",
     "text": [
      "example 0: label 0, feature [5.1 3.5 1.4 0.2]\n",
      "example 1: label 0, feature [4.9 3.  1.4 0.2]\n",
      "example 2: label 0, feature [4.7 3.2 1.3 0.2]\n",
      "example 3: label 0, feature [4.6 3.1 1.5 0.2]\n",
      "example 4: label 0, feature [5.  3.6 1.4 0.2]\n",
      "example 5: label 0, feature [5.4 3.9 1.7 0.4]\n",
      "example 6: label 0, feature [4.6 3.4 1.4 0.3]\n",
      "example 7: label 0, feature [5.  3.4 1.5 0.2]\n",
      "example 8: label 0, feature [4.4 2.9 1.4 0.2]\n",
      "example 9: label 0, feature [4.9 3.1 1.5 0.1]\n",
      "example 10: label 0, feature [5.4 3.7 1.5 0.2]\n",
      "example 11: label 0, feature [4.8 3.4 1.6 0.2]\n",
      "example 12: label 0, feature [4.8 3.  1.4 0.1]\n",
      "example 13: label 0, feature [4.3 3.  1.1 0.1]\n",
      "example 14: label 0, feature [5.8 4.  1.2 0.2]\n",
      "example 15: label 0, feature [5.7 4.4 1.5 0.4]\n",
      "example 16: label 0, feature [5.4 3.9 1.3 0.4]\n",
      "example 17: label 0, feature [5.1 3.5 1.4 0.3]\n",
      "example 18: label 0, feature [5.7 3.8 1.7 0.3]\n",
      "example 19: label 0, feature [5.1 3.8 1.5 0.3]\n",
      "example 20: label 0, feature [5.4 3.4 1.7 0.2]\n",
      "example 21: label 0, feature [5.1 3.7 1.5 0.4]\n",
      "example 22: label 0, feature [4.6 3.6 1.  0.2]\n",
      "example 23: label 0, feature [5.1 3.3 1.7 0.5]\n",
      "example 24: label 0, feature [4.8 3.4 1.9 0.2]\n",
      "example 25: label 0, feature [5.  3.  1.6 0.2]\n",
      "example 26: label 0, feature [5.  3.4 1.6 0.4]\n",
      "example 27: label 0, feature [5.2 3.5 1.5 0.2]\n",
      "example 28: label 0, feature [5.2 3.4 1.4 0.2]\n",
      "example 29: label 0, feature [4.7 3.2 1.6 0.2]\n",
      "example 30: label 0, feature [4.8 3.1 1.6 0.2]\n",
      "example 31: label 0, feature [5.4 3.4 1.5 0.4]\n",
      "example 32: label 0, feature [5.2 4.1 1.5 0.1]\n",
      "example 33: label 0, feature [5.5 4.2 1.4 0.2]\n",
      "example 34: label 0, feature [4.9 3.1 1.5 0.2]\n",
      "example 35: label 0, feature [5.  3.2 1.2 0.2]\n",
      "example 36: label 0, feature [5.5 3.5 1.3 0.2]\n",
      "example 37: label 0, feature [4.9 3.6 1.4 0.1]\n",
      "example 38: label 0, feature [4.4 3.  1.3 0.2]\n",
      "example 39: label 0, feature [5.1 3.4 1.5 0.2]\n",
      "example 40: label 0, feature [5.  3.5 1.3 0.3]\n",
      "example 41: label 0, feature [4.5 2.3 1.3 0.3]\n",
      "example 42: label 0, feature [4.4 3.2 1.3 0.2]\n",
      "example 43: label 0, feature [5.  3.5 1.6 0.6]\n",
      "example 44: label 0, feature [5.1 3.8 1.9 0.4]\n",
      "example 45: label 0, feature [4.8 3.  1.4 0.3]\n",
      "example 46: label 0, feature [5.1 3.8 1.6 0.2]\n",
      "example 47: label 0, feature [4.6 3.2 1.4 0.2]\n",
      "example 48: label 0, feature [5.3 3.7 1.5 0.2]\n",
      "example 49: label 0, feature [5.  3.3 1.4 0.2]\n",
      "example 50: label 1, feature [7.  3.2 4.7 1.4]\n",
      "example 51: label 1, feature [6.4 3.2 4.5 1.5]\n",
      "example 52: label 1, feature [6.9 3.1 4.9 1.5]\n",
      "example 53: label 1, feature [5.5 2.3 4.  1.3]\n",
      "example 54: label 1, feature [6.5 2.8 4.6 1.5]\n",
      "example 55: label 1, feature [5.7 2.8 4.5 1.3]\n",
      "example 56: label 1, feature [6.3 3.3 4.7 1.6]\n",
      "example 57: label 1, feature [4.9 2.4 3.3 1. ]\n",
      "example 58: label 1, feature [6.6 2.9 4.6 1.3]\n",
      "example 59: label 1, feature [5.2 2.7 3.9 1.4]\n",
      "example 60: label 1, feature [5.  2.  3.5 1. ]\n",
      "example 61: label 1, feature [5.9 3.  4.2 1.5]\n",
      "example 62: label 1, feature [6.  2.2 4.  1. ]\n",
      "example 63: label 1, feature [6.1 2.9 4.7 1.4]\n",
      "example 64: label 1, feature [5.6 2.9 3.6 1.3]\n",
      "example 65: label 1, feature [6.7 3.1 4.4 1.4]\n",
      "example 66: label 1, feature [5.6 3.  4.5 1.5]\n",
      "example 67: label 1, feature [5.8 2.7 4.1 1. ]\n",
      "example 68: label 1, feature [6.2 2.2 4.5 1.5]\n",
      "example 69: label 1, feature [5.6 2.5 3.9 1.1]\n",
      "example 70: label 1, feature [5.9 3.2 4.8 1.8]\n",
      "example 71: label 1, feature [6.1 2.8 4.  1.3]\n",
      "example 72: label 1, feature [6.3 2.5 4.9 1.5]\n",
      "example 73: label 1, feature [6.1 2.8 4.7 1.2]\n",
      "example 74: label 1, feature [6.4 2.9 4.3 1.3]\n",
      "example 75: label 1, feature [6.6 3.  4.4 1.4]\n",
      "example 76: label 1, feature [6.8 2.8 4.8 1.4]\n",
      "example 77: label 1, feature [6.7 3.  5.  1.7]\n",
      "example 78: label 1, feature [6.  2.9 4.5 1.5]\n",
      "example 79: label 1, feature [5.7 2.6 3.5 1. ]\n",
      "example 80: label 1, feature [5.5 2.4 3.8 1.1]\n",
      "example 81: label 1, feature [5.5 2.4 3.7 1. ]\n",
      "example 82: label 1, feature [5.8 2.7 3.9 1.2]\n",
      "example 83: label 1, feature [6.  2.7 5.1 1.6]\n",
      "example 84: label 1, feature [5.4 3.  4.5 1.5]\n",
      "example 85: label 1, feature [6.  3.4 4.5 1.6]\n",
      "example 86: label 1, feature [6.7 3.1 4.7 1.5]\n",
      "example 87: label 1, feature [6.3 2.3 4.4 1.3]\n",
      "example 88: label 1, feature [5.6 3.  4.1 1.3]\n",
      "example 89: label 1, feature [5.5 2.5 4.  1.3]\n",
      "example 90: label 1, feature [5.5 2.6 4.4 1.2]\n",
      "example 91: label 1, feature [6.1 3.  4.6 1.4]\n",
      "example 92: label 1, feature [5.8 2.6 4.  1.2]\n",
      "example 93: label 1, feature [5.  2.3 3.3 1. ]\n",
      "example 94: label 1, feature [5.6 2.7 4.2 1.3]\n",
      "example 95: label 1, feature [5.7 3.  4.2 1.2]\n",
      "example 96: label 1, feature [5.7 2.9 4.2 1.3]\n",
      "example 97: label 1, feature [6.2 2.9 4.3 1.3]\n",
      "example 98: label 1, feature [5.1 2.5 3.  1.1]\n",
      "example 99: label 1, feature [5.7 2.8 4.1 1.3]\n",
      "example 100: label 2, feature [6.3 3.3 6.  2.5]\n",
      "example 101: label 2, feature [5.8 2.7 5.1 1.9]\n",
      "example 102: label 2, feature [7.1 3.  5.9 2.1]\n",
      "example 103: label 2, feature [6.3 2.9 5.6 1.8]\n",
      "example 104: label 2, feature [6.5 3.  5.8 2.2]\n",
      "example 105: label 2, feature [7.6 3.  6.6 2.1]\n",
      "example 106: label 2, feature [4.9 2.5 4.5 1.7]\n",
      "example 107: label 2, feature [7.3 2.9 6.3 1.8]\n",
      "example 108: label 2, feature [6.7 2.5 5.8 1.8]\n",
      "example 109: label 2, feature [7.2 3.6 6.1 2.5]\n",
      "example 110: label 2, feature [6.5 3.2 5.1 2. ]\n",
      "example 111: label 2, feature [6.4 2.7 5.3 1.9]\n",
      "example 112: label 2, feature [6.8 3.  5.5 2.1]\n",
      "example 113: label 2, feature [5.7 2.5 5.  2. ]\n",
      "example 114: label 2, feature [5.8 2.8 5.1 2.4]\n",
      "example 115: label 2, feature [6.4 3.2 5.3 2.3]\n",
      "example 116: label 2, feature [6.5 3.  5.5 1.8]\n",
      "example 117: label 2, feature [7.7 3.8 6.7 2.2]\n",
      "example 118: label 2, feature [7.7 2.6 6.9 2.3]\n",
      "example 119: label 2, feature [6.  2.2 5.  1.5]\n",
      "example 120: label 2, feature [6.9 3.2 5.7 2.3]\n",
      "example 121: label 2, feature [5.6 2.8 4.9 2. ]\n",
      "example 122: label 2, feature [7.7 2.8 6.7 2. ]\n",
      "example 123: label 2, feature [6.3 2.7 4.9 1.8]\n",
      "example 124: label 2, feature [6.7 3.3 5.7 2.1]\n",
      "example 125: label 2, feature [7.2 3.2 6.  1.8]\n",
      "example 126: label 2, feature [6.2 2.8 4.8 1.8]\n",
      "example 127: label 2, feature [6.1 3.  4.9 1.8]\n",
      "example 128: label 2, feature [6.4 2.8 5.6 2.1]\n",
      "example 129: label 2, feature [7.2 3.  5.8 1.6]\n",
      "example 130: label 2, feature [7.4 2.8 6.1 1.9]\n",
      "example 131: label 2, feature [7.9 3.8 6.4 2. ]\n",
      "example 132: label 2, feature [6.4 2.8 5.6 2.2]\n",
      "example 133: label 2, feature [6.3 2.8 5.1 1.5]\n",
      "example 134: label 2, feature [6.1 2.6 5.6 1.4]\n",
      "example 135: label 2, feature [7.7 3.  6.1 2.3]\n",
      "example 136: label 2, feature [6.3 3.4 5.6 2.4]\n",
      "example 137: label 2, feature [6.4 3.1 5.5 1.8]\n",
      "example 138: label 2, feature [6.  3.  4.8 1.8]\n",
      "example 139: label 2, feature [6.9 3.1 5.4 2.1]\n",
      "example 140: label 2, feature [6.7 3.1 5.6 2.4]\n",
      "example 141: label 2, feature [6.9 3.1 5.1 2.3]\n",
      "example 142: label 2, feature [5.8 2.7 5.1 1.9]\n",
      "example 143: label 2, feature [6.8 3.2 5.9 2.3]\n",
      "example 144: label 2, feature [6.7 3.3 5.7 2.5]\n",
      "example 145: label 2, feature [6.7 3.  5.2 2.3]\n",
      "example 146: label 2, feature [6.3 2.5 5.  1.9]\n",
      "example 147: label 2, feature [6.5 3.  5.2 2. ]\n",
      "example 148: label 2, feature [6.2 3.4 5.4 2.3]\n",
      "example 149: label 2, feature [5.9 3.  5.1 1.8]\n"
     ]
    }
   ],
   "source": [
    "for i in range(len(iris.target)):\n",
    "    print(f'example %d: label %s, feature %s' %(i,iris.target[i],iris.data[i]))"
   ]
  },
  {
   "cell_type": "code",
   "execution_count": 8,
   "metadata": {},
   "outputs": [
    {
     "data": {
      "text/plain": [
       "<matplotlib.legend.Legend at 0x274fb0e3520>"
      ]
     },
     "execution_count": 8,
     "metadata": {},
     "output_type": "execute_result"
    },
    {
     "data": {
      "image/png": "[encoded data removed]",
      "text/plain": [
       "<Figure size 432x288 with 1 Axes>"
      ]
     },
     "metadata": {
      "needs_background": "light"
     },
     "output_type": "display_data"
    }
   ],
   "source": [
    "import matplotlib.pyplot as plt\n",
    "sepal = iris.data[:,0:2]\n",
    "kind = iris.target\n",
    "plt.xlabel('sepal_length')\n",
    "plt.ylabel('sepal_width')\n",
    "plt.plot(sepal[kind==0][:,0], sepal[kind==0][:,1],\"ro\",label='Setosa')\n",
    "plt.plot(sepal[kind==1][:,0], sepal[kind==1][:,1],\"bo\",label='Versicolor')\n",
    "plt.plot(sepal[kind==2][:,0], sepal[kind==2][:,1],\"yo\",label='Virginica')\n",
    "plt.legend()"
   ]
  },
  {
   "cell_type": "code",
   "execution_count": 9,
   "metadata": {},
   "outputs": [
    {
     "name": "stdout",
     "output_type": "stream",
     "text": [
      "(120, 4)\n",
      "(30, 4)\n"
     ]
    }
   ],
   "source": [
    "from sklearn.model_selection import train_test_split\n",
    "X = iris.data\n",
    "y = iris.target\n",
    "\n",
    "X_train, X_test, y_train, y_test = train_test_split(X,y,test_size=0.2, random_state=4)\n",
    "print(X_train.shape)\n",
    "print(X_test.shape)"
   ]
  },
  {
   "cell_type": "code",
   "execution_count": 15,
   "metadata": {},
   "outputs": [
    {
     "data": {
      "text/plain": [
       "0.9666666666666667"
      ]
     },
     "execution_count": 15,
     "metadata": {},
     "output_type": "execute_result"
    }
   ],
   "source": [
    "from sklearn.neighbors import KNeighborsClassifier\n",
    "from sklearn import metrics\n",
    "\n",
    "knn = KNeighborsClassifier(n_neighbors=6)\n",
    "knn.fit(X_train, y_train)\n",
    "\n",
    "y_pred = knn.predict(X_test)\n",
    "scores = metrics.accuracy_score(y_test,y_pred)\n",
    "scores"
   ]
  },
  {
   "cell_type": "code",
   "execution_count": 21,
   "metadata": {},
   "outputs": [
    {
     "data": {
      "text/plain": [
       "array([1, 0])"
      ]
     },
     "execution_count": 21,
     "metadata": {},
     "output_type": "execute_result"
    }
   ],
   "source": [
    "knn = KNeighborsClassifier(n_neighbors=5)\n",
    "knn.fit(X,y)\n",
    "classes = {0:'setosa',1:'versicolor',2:'virginica'}\n",
    "\n",
    "x_new = [[3,4,5,2],[5,4,2,2]]\n",
    "y_predict = knn.predict(x_new)\n",
    "y_predict"
   ]
  },
  {
   "cell_type": "code",
   "execution_count": 20,
   "metadata": {},
   "outputs": [
    {
     "data": {
      "text/plain": [
       "array([2, 0])"
      ]
     },
     "execution_count": 20,
     "metadata": {},
     "output_type": "execute_result"
    }
   ],
   "source": [
    "knn = KNeighborsClassifier(n_neighbors=1)\n",
    "knn.fit(X,y)\n",
    "classes = {0:'setosa',1:'versicolor',2:'virginica'}\n",
    "\n",
    "x_new = [[3,4,5,2],[5,4,2,2]]\n",
    "y_predict = knn.predict(x_new)\n",
    "y_predict"
   ]
  },
  {
   "cell_type": "code",
   "execution_count": 22,
   "metadata": {},
   "outputs": [
    {
     "name": "stdout",
     "output_type": "stream",
     "text": [
      "versicolor\n",
      "setosa\n"
     ]
    }
   ],
   "source": [
    "print(classes[y_predict[0]])\n",
    "print(classes[y_predict[1]])"
   ]
  },
  {
   "cell_type": "markdown",
   "metadata": {},
   "source": [
    "#### 파이프라인"
   ]
  },
  {
   "cell_type": "code",
   "execution_count": 27,
   "metadata": {},
   "outputs": [
    {
     "data": {
      "text/plain": [
       "0.8101"
      ]
     },
     "execution_count": 27,
     "metadata": {},
     "output_type": "execute_result"
    }
   ],
   "source": [
    "from sklearn.datasets import make_regression,make_classification\n",
    "\n",
    "from sklearn.metrics import accuracy_score\n",
    "from sklearn.model_selection import train_test_split\n",
    "from modules import DtPre\n",
    "\n",
    "from sklearn.pipeline import Pipeline\n",
    "import pandas as pd\n",
    "from sklearn.preprocessing import StandardScaler\n",
    "from sklearn.linear_model import LogisticRegression\n",
    "import numpy as np\n",
    "\n",
    "\n",
    "titanic_df = pd.read_csv('datasets/titanic_train.csv')\n",
    "y_titanic_df = titanic_df['Survived']\n",
    "X_titanic_df = titanic_df.drop('Survived',axis=1)\n",
    "\n",
    "X_titanic_df = DtPre.transform_features(X_titanic_df)\n",
    "X_train, X_test, y_train, y_test = train_test_split(X_titanic_df, y_titanic_df, \\\n",
    "                                            test_size=0.2, random_state=5)\n",
    "pipeline = Pipeline([\n",
    "    ('scaler',StandardScaler()),\n",
    "    ('clf', LogisticRegression())\n",
    "\t])\n",
    "\n",
    "pipeline.fit(X_train,y_train)\n",
    "\n",
    "y_preds = pipeline.predict(X_test)\n",
    "\n",
    "np.round(accuracy_score(y_test,y_preds),4)"
   ]
  },
  {
   "cell_type": "code",
   "execution_count": 28,
   "metadata": {},
   "outputs": [
    {
     "name": "stdout",
     "output_type": "stream",
     "text": [
      "LogisticRegression 정확도 : 0.8101\n"
     ]
    }
   ],
   "source": [
    "scaler = StandardScaler()\n",
    "scaler.fit(X_titanic_df)\n",
    "titanic_scaled = scaler.transform(X_titanic_df)\n",
    "#transform() 하면 scale 변환된 데이터 셋이 numpy ndarray로 반환되어\n",
    "# 이를 DataFrame으로 변환해야함\n",
    "titanic_df_scaled = pd.DataFrame(data=titanic_scaled, columns=X_titanic_df.keys())\n",
    "X_train, X_test, y_train, y_test = train_test_split(titanic_df_scaled, y_titanic_df, \\\n",
    "                                            test_size=0.2, random_state=5)\n",
    "lr_clf = LogisticRegression()\n",
    "lr_clf.fit(X_train,y_train)\n",
    "lr_pred = lr_clf.predict(X_test)\n",
    "print(f'LogisticRegression 정확도 : {accuracy_score(y_test,lr_pred):.4f}')"
   ]
  },
  {
   "cell_type": "code",
   "execution_count": 23,
   "metadata": {},
   "outputs": [
    {
     "data": {
      "text/html": [
       "<div>\n",
       "<style scoped>\n",
       "    .dataframe tbody tr th:only-of-type {\n",
       "        vertical-align: middle;\n",
       "    }\n",
       "\n",
       "    .dataframe tbody tr th {\n",
       "        vertical-align: top;\n",
       "    }\n",
       "\n",
       "    .dataframe thead th {\n",
       "        text-align: right;\n",
       "    }\n",
       "</style>\n",
       "<table border=\"1\" class=\"dataframe\">\n",
       "  <thead>\n",
       "    <tr style=\"text-align: right;\">\n",
       "      <th></th>\n",
       "      <th>Pclass</th>\n",
       "      <th>Sex</th>\n",
       "      <th>Age</th>\n",
       "      <th>SibSp</th>\n",
       "      <th>Parch</th>\n",
       "      <th>Fare</th>\n",
       "      <th>Cabin</th>\n",
       "      <th>Embarked</th>\n",
       "    </tr>\n",
       "  </thead>\n",
       "  <tbody>\n",
       "    <tr>\n",
       "      <th>0</th>\n",
       "      <td>0.827377</td>\n",
       "      <td>0.737695</td>\n",
       "      <td>-0.592481</td>\n",
       "      <td>0.432793</td>\n",
       "      <td>-0.473674</td>\n",
       "      <td>-0.502445</td>\n",
       "      <td>0.511293</td>\n",
       "      <td>0.562734</td>\n",
       "    </tr>\n",
       "    <tr>\n",
       "      <th>1</th>\n",
       "      <td>-1.566107</td>\n",
       "      <td>-1.355574</td>\n",
       "      <td>0.638789</td>\n",
       "      <td>0.432793</td>\n",
       "      <td>-0.473674</td>\n",
       "      <td>0.786845</td>\n",
       "      <td>-1.914491</td>\n",
       "      <td>-2.008526</td>\n",
       "    </tr>\n",
       "    <tr>\n",
       "      <th>2</th>\n",
       "      <td>0.827377</td>\n",
       "      <td>-1.355574</td>\n",
       "      <td>-0.284663</td>\n",
       "      <td>-0.474545</td>\n",
       "      <td>-0.473674</td>\n",
       "      <td>-0.488854</td>\n",
       "      <td>0.511293</td>\n",
       "      <td>0.562734</td>\n",
       "    </tr>\n",
       "    <tr>\n",
       "      <th>3</th>\n",
       "      <td>-1.566107</td>\n",
       "      <td>-1.355574</td>\n",
       "      <td>0.407926</td>\n",
       "      <td>0.432793</td>\n",
       "      <td>-0.473674</td>\n",
       "      <td>0.420730</td>\n",
       "      <td>-1.914491</td>\n",
       "      <td>0.562734</td>\n",
       "    </tr>\n",
       "    <tr>\n",
       "      <th>4</th>\n",
       "      <td>0.827377</td>\n",
       "      <td>0.737695</td>\n",
       "      <td>0.407926</td>\n",
       "      <td>-0.474545</td>\n",
       "      <td>-0.473674</td>\n",
       "      <td>-0.486337</td>\n",
       "      <td>0.511293</td>\n",
       "      <td>0.562734</td>\n",
       "    </tr>\n",
       "    <tr>\n",
       "      <th>...</th>\n",
       "      <td>...</td>\n",
       "      <td>...</td>\n",
       "      <td>...</td>\n",
       "      <td>...</td>\n",
       "      <td>...</td>\n",
       "      <td>...</td>\n",
       "      <td>...</td>\n",
       "      <td>...</td>\n",
       "    </tr>\n",
       "    <tr>\n",
       "      <th>886</th>\n",
       "      <td>-0.369365</td>\n",
       "      <td>0.737695</td>\n",
       "      <td>-0.207709</td>\n",
       "      <td>-0.474545</td>\n",
       "      <td>-0.473674</td>\n",
       "      <td>-0.386671</td>\n",
       "      <td>0.511293</td>\n",
       "      <td>0.562734</td>\n",
       "    </tr>\n",
       "    <tr>\n",
       "      <th>887</th>\n",
       "      <td>-1.566107</td>\n",
       "      <td>-1.355574</td>\n",
       "      <td>-0.823344</td>\n",
       "      <td>-0.474545</td>\n",
       "      <td>-0.473674</td>\n",
       "      <td>-0.044381</td>\n",
       "      <td>-2.399648</td>\n",
       "      <td>0.562734</td>\n",
       "    </tr>\n",
       "    <tr>\n",
       "      <th>888</th>\n",
       "      <td>0.827377</td>\n",
       "      <td>-1.355574</td>\n",
       "      <td>0.000000</td>\n",
       "      <td>0.432793</td>\n",
       "      <td>2.008933</td>\n",
       "      <td>-0.176263</td>\n",
       "      <td>0.511293</td>\n",
       "      <td>0.562734</td>\n",
       "    </tr>\n",
       "    <tr>\n",
       "      <th>889</th>\n",
       "      <td>-1.566107</td>\n",
       "      <td>0.737695</td>\n",
       "      <td>-0.284663</td>\n",
       "      <td>-0.474545</td>\n",
       "      <td>-0.473674</td>\n",
       "      <td>-0.044381</td>\n",
       "      <td>-1.914491</td>\n",
       "      <td>-2.008526</td>\n",
       "    </tr>\n",
       "    <tr>\n",
       "      <th>890</th>\n",
       "      <td>0.827377</td>\n",
       "      <td>0.737695</td>\n",
       "      <td>0.177063</td>\n",
       "      <td>-0.474545</td>\n",
       "      <td>-0.473674</td>\n",
       "      <td>-0.492378</td>\n",
       "      <td>0.511293</td>\n",
       "      <td>-0.294353</td>\n",
       "    </tr>\n",
       "  </tbody>\n",
       "</table>\n",
       "<p>891 rows × 8 columns</p>\n",
       "</div>"
      ],
      "text/plain": [
       "       Pclass       Sex       Age     SibSp     Parch      Fare     Cabin  \\\n",
       "0    0.827377  0.737695 -0.592481  0.432793 -0.473674 -0.502445  0.511293   \n",
       "1   -1.566107 -1.355574  0.638789  0.432793 -0.473674  0.786845 -1.914491   \n",
       "2    0.827377 -1.355574 -0.284663 -0.474545 -0.473674 -0.488854  0.511293   \n",
       "3   -1.566107 -1.355574  0.407926  0.432793 -0.473674  0.420730 -1.914491   \n",
       "4    0.827377  0.737695  0.407926 -0.474545 -0.473674 -0.486337  0.511293   \n",
       "..        ...       ...       ...       ...       ...       ...       ...   \n",
       "886 -0.369365  0.737695 -0.207709 -0.474545 -0.473674 -0.386671  0.511293   \n",
       "887 -1.566107 -1.355574 -0.823344 -0.474545 -0.473674 -0.044381 -2.399648   \n",
       "888  0.827377 -1.355574  0.000000  0.432793  2.008933 -0.176263  0.511293   \n",
       "889 -1.566107  0.737695 -0.284663 -0.474545 -0.473674 -0.044381 -1.914491   \n",
       "890  0.827377  0.737695  0.177063 -0.474545 -0.473674 -0.492378  0.511293   \n",
       "\n",
       "     Embarked  \n",
       "0    0.562734  \n",
       "1   -2.008526  \n",
       "2    0.562734  \n",
       "3    0.562734  \n",
       "4    0.562734  \n",
       "..        ...  \n",
       "886  0.562734  \n",
       "887  0.562734  \n",
       "888  0.562734  \n",
       "889 -2.008526  \n",
       "890 -0.294353  \n",
       "\n",
       "[891 rows x 8 columns]"
      ]
     },
     "execution_count": 23,
     "metadata": {},
     "output_type": "execute_result"
    }
   ],
   "source": [
    "titanic_df_scaled"
   ]
  },
  {
   "cell_type": "code",
   "execution_count": null,
   "metadata": {},
   "outputs": [],
   "source": []
  }
 ],
 "metadata": {
  "interpreter": {
   "hash": "b89b5cfaba6639976dc87ff2fec6d58faec662063367e2c229c520fe71072417"
  },
  "kernelspec": {
   "display_name": "Python 3.10.1 64-bit",
   "language": "python",
   "name": "python3"
  },
  "language_info": {
   "codemirror_mode": {
    "name": "ipython",
    "version": 3
   },
   "file_extension": ".py",
   "mimetype": "text/x-python",
   "name": "python",
   "nbconvert_exporter": "python",
   "pygments_lexer": "ipython3",
   "version": "3.10.1"
  },
  "orig_nbformat": 4
 },
 "nbformat": 4,
 "nbformat_minor": 2
}
