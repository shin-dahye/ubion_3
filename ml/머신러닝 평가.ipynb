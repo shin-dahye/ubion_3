{
 "cells": [
  {
   "cell_type": "markdown",
   "id": "d06bc16e",
   "metadata": {},
   "source": [
    "## Accuracy(정확도)\n",
    "* 정확도 = 예측 결과가 동일한 데이터 건수/ 전체 예측 건수"
   ]
  },
  {
   "cell_type": "markdown",
   "id": "91725ebf",
   "metadata": {},
   "source": [
    "## Confusion Matrix\n",
    "* 결과값 [TN FP]/[FN TP] 순서다"
   ]
  },
  {
   "cell_type": "markdown",
   "id": "49e99437",
   "metadata": {},
   "source": [
    "## Precision과 Recall"
   ]
  },
  {
   "cell_type": "code",
   "execution_count": 6,
   "id": "95faeb49",
   "metadata": {
    "ExecuteTime": {
     "end_time": "2022-04-12T06:36:14.205493Z",
     "start_time": "2022-04-12T06:36:14.197987Z"
    }
   },
   "outputs": [],
   "source": [
    "from sklearn.metrics import accuracy_score, precision_score , recall_score , confusion_matrix\n",
    "\n",
    "def get_clf_eval(y_test , pred):\n",
    "    confusion = confusion_matrix( y_test, pred)\n",
    "    accuracy = accuracy_score(y_test , pred)\n",
    "    precision = precision_score(y_test , pred)\n",
    "    recall = recall_score(y_test , pred)\n",
    "    print('오차 행렬')\n",
    "    print(confusion)\n",
    "    print(f'정확도: {accuracy:.4f}, 정밀도: {precision:.4f}, 재현율: {recall:.4f}')"
   ]
  },
  {
   "cell_type": "code",
   "execution_count": 7,
   "id": "6e473c1a",
   "metadata": {
    "ExecuteTime": {
     "end_time": "2022-04-12T06:36:15.771774Z",
     "start_time": "2022-04-12T06:36:15.723006Z"
    }
   },
   "outputs": [
    {
     "name": "stdout",
     "output_type": "stream",
     "text": [
      "오차 행렬\n",
      "[[104  14]\n",
      " [ 13  48]]\n",
      "정확도: 0.8492, 정밀도: 0.7742, 재현율: 0.7869\n"
     ]
    },
    {
     "name": "stderr",
     "output_type": "stream",
     "text": [
      "C:\\Users\\da_hye\\anaconda3\\lib\\site-packages\\sklearn\\linear_model\\_logistic.py:814: ConvergenceWarning: lbfgs failed to converge (status=1):\n",
      "STOP: TOTAL NO. of ITERATIONS REACHED LIMIT.\n",
      "\n",
      "Increase the number of iterations (max_iter) or scale the data as shown in:\n",
      "    https://scikit-learn.org/stable/modules/preprocessing.html\n",
      "Please also refer to the documentation for alternative solver options:\n",
      "    https://scikit-learn.org/stable/modules/linear_model.html#logistic-regression\n",
      "  n_iter_i = _check_optimize_result(\n"
     ]
    }
   ],
   "source": [
    "import numpy as np\n",
    "import pandas as pd\n",
    "from modules import DtPre\n",
    "from sklearn.model_selection import train_test_split\n",
    "from sklearn.linear_model import LogisticRegression\n",
    "titanic_df = pd.read_csv(\"./datasets/titanic_train.csv\")\n",
    "y_titanic_df = titanic_df[\"Survived\"]   # 레이블 데이터 셋 추출\n",
    "X_titanic_df = titanic_df.drop(\"Survived\", axis=1)  # 피쳐 데이터 셋에서 레이블셋은 삭제\n",
    "X_titanic_df = DtPre.transform_features(X_titanic_df) # 만들어둔 전처리 함수 적용\n",
    "X_train, X_test, y_train, y_test = train_test_split(X_titanic_df, y_titanic_df,\n",
    "                                                    test_size=0.2, random_state=11)\n",
    "lr_clf = LogisticRegression()\n",
    "lr_clf.fit(X_train, y_train)\n",
    "pred = lr_clf.predict(X_test)\n",
    "get_clf_eval(y_test, pred)"
   ]
  },
  {
   "cell_type": "markdown",
   "id": "e75838bf",
   "metadata": {},
   "source": [
    "### Precision/Recall Trade-off\n",
    "* 정밀도 또는 재현율이 특별히 강조돼야 할 경우 분류의 결정 임계값(Threshold) 조정을 통해 정밀도 또는 재현율의 수치를 높일 수 있음\n",
    "* 앞이 0 뒤가 1이 될 확률"
   ]
  },
  {
   "cell_type": "code",
   "execution_count": 9,
   "id": "fcede767",
   "metadata": {
    "ExecuteTime": {
     "end_time": "2022-04-12T07:05:45.401102Z",
     "start_time": "2022-04-12T07:05:45.382853Z"
    }
   },
   "outputs": [
    {
     "name": "stdout",
     "output_type": "stream",
     "text": [
      "pred_proba()결과 Shape : (179, 2)\n",
      "pred_proba array에서 앞 3개만 샘플로 추출 \n",
      ": [[0.46150875 0.53849125]\n",
      " [0.87861148 0.12138852]\n",
      " [0.8772111  0.1227889 ]]\n",
      "두개의 class 중에서 더 큰 확률을 클래스 값으로 예측 \n",
      " [[0.46150875 0.53849125 1.        ]\n",
      " [0.87861148 0.12138852 0.        ]\n",
      " [0.8772111  0.1227889  0.        ]]\n"
     ]
    }
   ],
   "source": [
    "pred_proba = lr_clf.predict_proba(X_test)\n",
    "pred  = lr_clf.predict(X_test)\n",
    "print(f'pred_proba()결과 Shape : {pred_proba.shape}')\n",
    "print(f'pred_proba array에서 앞 3개만 샘플로 추출 \\n: {pred_proba[:3]}')\n",
    "\n",
    "# 예측 확률 array 와 예측 결과값 array 를 concatenate 하여 예측 확률과 결과값을 한눈에 확인\n",
    "pred_proba_result = np.concatenate([pred_proba , pred.reshape(-1,1)],axis=1)\n",
    "print(f'두개의 class 중에서 더 큰 확률을 클래스 값으로 예측 \\n {pred_proba_result[:3]}')"
   ]
  },
  {
   "cell_type": "code",
   "execution_count": 10,
   "id": "b4d398fc",
   "metadata": {
    "ExecuteTime": {
     "end_time": "2022-04-12T07:07:23.365125Z",
     "start_time": "2022-04-12T07:07:23.349027Z"
    },
    "scrolled": true
   },
   "outputs": [
    {
     "name": "stdout",
     "output_type": "stream",
     "text": [
      "[[0. 0. 1.]\n",
      " [1. 0. 0.]\n",
      " [0. 0. 1.]]\n"
     ]
    }
   ],
   "source": [
    "from sklearn.preprocessing import Binarizer\n",
    "\n",
    "X = [[ 1, -1,  2],\n",
    "     [ 2,  0,  0],\n",
    "     [ 0,  1.1, 1.2]]\n",
    "\n",
    "# threshold 기준값보다 같거나 작으면 0, 크면 1\n",
    "binarizer = Binarizer(threshold=1.1)                     \n",
    "print(binarizer.fit_transform(X))"
   ]
  },
  {
   "cell_type": "markdown",
   "id": "12c31c07",
   "metadata": {
    "ExecuteTime": {
     "end_time": "2022-04-12T07:16:34.202368Z",
     "start_time": "2022-04-12T07:16:34.188305Z"
    }
   },
   "source": [
    "### sklearn.preprocessing.Binarizer\n",
    "* class sklearn.preprocessing.Binarizer(*, threshold=0.0, copy=True)\n",
    "* 임계값에 따라 데이터 이진화(특성 값을 0 또는 1로 설정).\n",
    "\n",
    "임계값보다 큰 값은 1로 매핑되고 임계값보다 작거나 같은 값은 0으로 매핑됩니다. 기본 임계값이 0이면 양수 값만 1로 매핑됩니다."
   ]
  },
  {
   "cell_type": "code",
   "execution_count": 11,
   "id": "0a43756e",
   "metadata": {
    "ExecuteTime": {
     "end_time": "2022-04-12T07:08:04.602034Z",
     "start_time": "2022-04-12T07:08:04.572855Z"
    }
   },
   "outputs": [
    {
     "name": "stdout",
     "output_type": "stream",
     "text": [
      "오차 행렬\n",
      "[[104  14]\n",
      " [ 13  48]]\n",
      "정확도: 0.8492, 정밀도: 0.7742, 재현율: 0.7869\n"
     ]
    }
   ],
   "source": [
    "from sklearn.preprocessing import Binarizer\n",
    "\n",
    "custom_threshold = 0.5\n",
    "\n",
    "# predict_proba( ) 반환값의 두번째 컬럼 , 즉 Positive 클래스 컬럼 하나만 추출하여 Binarizer를 적용\n",
    "pred_proba_1 = pred_proba[:,1].reshape(-1,1)\n",
    "\n",
    "binarizer = Binarizer(threshold=custom_threshold).fit(pred_proba_1) \n",
    "custom_predict = binarizer.transform(pred_proba_1)\n",
    "\n",
    "get_clf_eval(y_test, custom_predict)"
   ]
  },
  {
   "cell_type": "code",
   "execution_count": 14,
   "id": "f456636a",
   "metadata": {
    "ExecuteTime": {
     "end_time": "2022-04-12T07:11:32.518948Z",
     "start_time": "2022-04-12T07:11:32.506339Z"
    }
   },
   "outputs": [
    {
     "name": "stdout",
     "output_type": "stream",
     "text": [
      "오차 행렬\n",
      "[[99 19]\n",
      " [10 51]]\n",
      "정확도: 0.8380, 정밀도: 0.7286, 재현율: 0.8361\n"
     ]
    }
   ],
   "source": [
    "# 분류 결정 임곗값을 0.5에서 0.4로 낮춤  (recalldl 더 중요)\n",
    "custom_threshold = 0.4\n",
    "pred_proba_1 = pred_proba[:,1].reshape(-1,1)\n",
    "binarizer = Binarizer(threshold=custom_threshold).fit(pred_proba_1) \n",
    "custom_predict = binarizer.transform(pred_proba_1)\n",
    "\n",
    "get_clf_eval(y_test , custom_predict)"
   ]
  },
  {
   "cell_type": "code",
   "execution_count": 17,
   "id": "73c49a14",
   "metadata": {
    "ExecuteTime": {
     "end_time": "2022-04-12T07:14:15.891193Z",
     "start_time": "2022-04-12T07:14:15.858604Z"
    }
   },
   "outputs": [
    {
     "name": "stdout",
     "output_type": "stream",
     "text": [
      "임곗값:0.4\n",
      "오차 행렬\n",
      "[[99 19]\n",
      " [10 51]]\n",
      "정확도: 0.8380, 정밀도: 0.7286, 재현율: 0.8361\n",
      "임곗값:0.45\n",
      "오차 행렬\n",
      "[[103  15]\n",
      " [ 12  49]]\n",
      "정확도: 0.8492, 정밀도: 0.7656, 재현율: 0.8033\n",
      "임곗값:0.5\n",
      "오차 행렬\n",
      "[[104  14]\n",
      " [ 13  48]]\n",
      "정확도: 0.8492, 정밀도: 0.7742, 재현율: 0.7869\n",
      "임곗값:0.55\n",
      "오차 행렬\n",
      "[[109   9]\n",
      " [ 15  46]]\n",
      "정확도: 0.8659, 정밀도: 0.8364, 재현율: 0.7541\n",
      "임곗값:0.6\n",
      "오차 행렬\n",
      "[[112   6]\n",
      " [ 16  45]]\n",
      "정확도: 0.8771, 정밀도: 0.8824, 재현율: 0.7377\n"
     ]
    }
   ],
   "source": [
    "thresholds = [0.4, 0.45, 0.50, 0.55, 0.60]\n",
    "\n",
    "def get_eval_by_threshold(y_test, pred_proba_c1, thresholds):\n",
    "    for custom_threshold in thresholds:\n",
    "        binarizer = Binarizer(threshold=custom_threshold).fit(pred_proba_c1) \n",
    "        custom_predict = binarizer.transform(pred_proba_c1)\n",
    "        print(f'임곗값:{custom_threshold}')\n",
    "        get_clf_eval(y_test , custom_predict)\n",
    "get_eval_by_threshold(y_test ,pred_proba[:,1].reshape(-1,1), thresholds )"
   ]
  },
  {
   "cell_type": "markdown",
   "id": "4838a8bd",
   "metadata": {},
   "source": [
    "### sklearn.metrics.plot_precision_recall_curve\n",
    "* sklearn.metrics.plot_precision_recall_curve(estimator, X, y, *, sample_weight=None, response_method='auto', name=None, ax=None, pos_label=None, **kwargs)"
   ]
  },
  {
   "cell_type": "code",
   "execution_count": 38,
   "id": "8bcd4c94",
   "metadata": {
    "ExecuteTime": {
     "end_time": "2022-04-12T07:55:50.507045Z",
     "start_time": "2022-04-12T07:55:50.500139Z"
    }
   },
   "outputs": [
    {
     "data": {
      "text/plain": [
       "179"
      ]
     },
     "execution_count": 38,
     "metadata": {},
     "output_type": "execute_result"
    }
   ],
   "source": [
    "len(pred_proba_class1)"
   ]
  },
  {
   "cell_type": "code",
   "execution_count": 26,
   "id": "145c9c48",
   "metadata": {
    "ExecuteTime": {
     "end_time": "2022-04-12T07:29:32.548933Z",
     "start_time": "2022-04-12T07:29:32.522054Z"
    },
    "scrolled": true
   },
   "outputs": [
    {
     "name": "stdout",
     "output_type": "stream",
     "text": [
      "반환된 분류 결정 임곗값 배열의 Shape: (143,)\n",
      "반환된 precisions 배열의 Shape: (144,)\n",
      "반환된 recalls 배열의 Shape: (144,)\n",
      "\n",
      "thresholds 5 sample : [0.1039561  0.10395833 0.10398338 0.10754884 0.108937  ]\n",
      "precisions 5 sample : [0.38853503 0.38461538 0.38709677 0.38961039 0.38562092]\n",
      "recalls 5 sample : [1.         0.98360656 0.98360656 0.98360656 0.96721311]\n",
      "샘플 추출을 위한 임계값 배열의 index 10개:[  0  15  30  45  60  75  90 105 120 135]\n",
      "샘플용 10개의 임곗값: [0.1  0.12 0.14 0.19 0.28 0.4  0.56 0.67 0.82 0.95]\n",
      "샘플 임계값별 정밀도: [0.389 0.44  0.466 0.539 0.647 0.729 0.836 0.949 0.958 1.   ]\n",
      "샘플 임계값별 재현율: [1.    0.967 0.902 0.902 0.902 0.836 0.754 0.607 0.377 0.148]\n"
     ]
    }
   ],
   "source": [
    "from sklearn.metrics import precision_recall_curve\n",
    "\n",
    "# 레이블 값 1\n",
    "pred_proba_class1 = lr_clf.predict_proba(X_test)[:, 1] \n",
    "\n",
    "precisions, recalls, thresholds = precision_recall_curve(y_test, pred_proba_class1 )\n",
    "print(f'반환된 분류 결정 임곗값 배열의 Shape: {thresholds.shape}')\n",
    "print(f'반환된 precisions 배열의 Shape: {precisions.shape}')\n",
    "print(f'반환된 recalls 배열의 Shape: {recalls.shape}')\n",
    "print(f'\\nthresholds 5 sample : {thresholds[:5]}')\n",
    "print(f'precisions 5 sample : {precisions[:5]}')\n",
    "print(f'recalls 5 sample : {recalls[:5]}')\n",
    "\n",
    "\n",
    "thr_index = np.arange(0, thresholds.shape[0], 15)\n",
    "print(f'샘플 추출을 위한 임계값 배열의 index 10개:{thr_index}')\n",
    "print(f'샘플용 10개의 임곗값: {np.round(thresholds[thr_index], 2)}')\n",
    "\n",
    "print(f'샘플 임계값별 정밀도: {np.round(precisions[thr_index], 3)}')\n",
    "print(f'샘플 임계값별 재현율: {np.round(recalls[thr_index], 3)}')"
   ]
  },
  {
   "cell_type": "code",
   "execution_count": 29,
   "id": "3cf934c7",
   "metadata": {
    "ExecuteTime": {
     "end_time": "2022-04-12T07:37:19.881009Z",
     "start_time": "2022-04-12T07:37:19.871513Z"
    }
   },
   "outputs": [
    {
     "name": "stdout",
     "output_type": "stream",
     "text": [
      "\n",
      "thresholds 5 sample : [0.94891528 0.94909528 0.95059713 0.95191472 0.96512597]\n",
      "precisions 5 sample : [1. 1. 1. 1. 1.]\n",
      "recalls 5 sample : [0.08196721 0.06557377 0.04918033 0.03278689 0.        ]\n"
     ]
    }
   ],
   "source": [
    "print(f'\\nthresholds 5 sample : {thresholds[-5:]}')\n",
    "print(f'precisions 5 sample : {precisions[-5:]}')\n",
    "print(f'recalls 5 sample : {recalls[-5:]}')\n"
   ]
  },
  {
   "cell_type": "code",
   "execution_count": 28,
   "id": "fc928f4a",
   "metadata": {
    "ExecuteTime": {
     "end_time": "2022-04-12T07:32:44.034634Z",
     "start_time": "2022-04-12T07:32:41.279647Z"
    }
   },
   "outputs": [
    {
     "data": {
      "image/png": "[encoded data removed]",
      "text/plain": [
       "<Figure size 576x432 with 1 Axes>"
      ]
     },
     "metadata": {
      "needs_background": "light"
     },
     "output_type": "display_data"
    }
   ],
   "source": [
    "import matplotlib.pyplot as plt\n",
    "import matplotlib.ticker as ticker\n",
    "%matplotlib inline\n",
    "\n",
    "def precision_recall_curve_plot(y_test , pred_proba_c1): \n",
    "    precisions, recalls, thresholds = precision_recall_curve( y_test, pred_proba_c1)\n",
    "    \n",
    "    # X축을 threshold값으로, Y축은 정밀도, 재현율 값으로 각각 Plot 수행. 정밀도는 점선으로 표시\n",
    "    plt.figure(figsize=(8,6))\n",
    "    threshold_boundary = thresholds.shape[0]\n",
    "    plt.plot(thresholds, precisions[0:threshold_boundary], linestyle='--', label='precision')\n",
    "    plt.plot(thresholds, recalls[0:threshold_boundary],label='recall')\n",
    "    \n",
    "    # threshold 값 X 축의 Scale을 0.1 단위로 변경\n",
    "    start, end = plt.xlim()\n",
    "    plt.xticks(np.round(np.arange(start, end, 0.1),2))\n",
    "    \n",
    "    # x축, y축 label과 legend, 그리고 grid 설정\n",
    "    plt.xlabel('Threshold value'); plt.ylabel('Precision and Recall value')\n",
    "    plt.legend(); plt.grid()\n",
    "    plt.show()\n",
    "    \n",
    "precision_recall_curve_plot( y_test, lr_clf.predict_proba(X_test)[:, 1] )\n"
   ]
  },
  {
   "cell_type": "markdown",
   "id": "663e8445",
   "metadata": {},
   "source": [
    "## sklearn.metrics.f1_score\n",
    "* sklearn.metrics.f1_score(y_true, y_pred, *, labels=None, pos_label=1, average='binary', sample_weight=None, zero_division='warn')"
   ]
  },
  {
   "cell_type": "code",
   "execution_count": 39,
   "id": "a923bd0b",
   "metadata": {
    "ExecuteTime": {
     "end_time": "2022-04-12T08:06:08.280790Z",
     "start_time": "2022-04-12T08:06:08.269679Z"
    }
   },
   "outputs": [
    {
     "name": "stdout",
     "output_type": "stream",
     "text": [
      "F1 스코어 : 0.7805\n"
     ]
    }
   ],
   "source": [
    "from sklearn.metrics import f1_score\n",
    "f1 = f1_score(y_test, pred)\n",
    "print(f'F1 스코어 : {f1:.4f}')"
   ]
  },
  {
   "cell_type": "code",
   "execution_count": 43,
   "id": "eacd6752",
   "metadata": {
    "ExecuteTime": {
     "end_time": "2022-04-12T08:30:49.612390Z",
     "start_time": "2022-04-12T08:30:49.571197Z"
    }
   },
   "outputs": [
    {
     "name": "stdout",
     "output_type": "stream",
     "text": [
      "임곗값:0.4\n",
      "오차행렬\n",
      "[[99 19]\n",
      " [10 51]]\n",
      "정확도 : 0.8380, 정밀도 : 0.7286, 재현율 : 0.8361,F1 : 0.7786\n",
      "임곗값:0.45\n",
      "오차행렬\n",
      "[[103  15]\n",
      " [ 12  49]]\n",
      "정확도 : 0.8492, 정밀도 : 0.7656, 재현율 : 0.8033,F1 : 0.7840\n",
      "임곗값:0.5\n",
      "오차행렬\n",
      "[[104  14]\n",
      " [ 13  48]]\n",
      "정확도 : 0.8492, 정밀도 : 0.7742, 재현율 : 0.7869,F1 : 0.7805\n",
      "임곗값:0.55\n",
      "오차행렬\n",
      "[[109   9]\n",
      " [ 15  46]]\n",
      "정확도 : 0.8659, 정밀도 : 0.8364, 재현율 : 0.7541,F1 : 0.7931\n",
      "임곗값:0.6\n",
      "오차행렬\n",
      "[[112   6]\n",
      " [ 16  45]]\n",
      "정확도 : 0.8771, 정밀도 : 0.8824, 재현율 : 0.7377,F1 : 0.8036\n"
     ]
    }
   ],
   "source": [
    "def get_clf_eval(y_test,pred):\n",
    "    confusion = confusion_matrix(y_test, pred)\n",
    "    accuracy = accuracy_score(y_test, pred)\n",
    "    precision = precision_score(y_test,pred)\n",
    "    recall = recall_score(y_test,pred)\n",
    "    f1 = f1_score(y_test,pred)\n",
    "    print('오차행렬')\n",
    "    print(confusion)\n",
    "    print(f'정확도 : {accuracy:.4f}, 정밀도 : {precision:.4f}, 재현율 : {recall:.4f},F1 : {f1:.4f}')\n",
    "          \n",
    "thresholds = [0.4, 0.45, 0.50, 0.55, 0.60]\n",
    "pred_proba = lr_clf.predict_proba(X_test)\n",
    "get_eval_by_threshold(y_test, pred_proba[:,1].reshape(-1,1),thresholds)"
   ]
  },
  {
   "cell_type": "markdown",
   "id": "42156cc2",
   "metadata": {},
   "source": [
    "## sklearn.metrics.plot_roc_curve\n",
    "* sklearn.metrics.plot_roc_curve(estimator, X, y, *, sample_weight=None, drop_intermediate=True, response_method='auto', name=None, ax=None, pos_label=None, **kwargs)"
   ]
  },
  {
   "cell_type": "code",
   "execution_count": 45,
   "id": "ec8ec4ac",
   "metadata": {
    "ExecuteTime": {
     "end_time": "2022-04-12T08:33:45.723723Z",
     "start_time": "2022-04-12T08:33:45.712216Z"
    }
   },
   "outputs": [
    {
     "name": "stdout",
     "output_type": "stream",
     "text": [
      "샘플 추출을 위한 임곗값 배열 index:[ 1  6 11 16 21 26 31 36 41 46 51]\n",
      "샘플 index로 추출한 임곗값:[0.97 0.65 0.63 0.56 0.45 0.38 0.31 0.13 0.12 0.11 0.1 ]\n",
      "샘플 임곗값별 FPR: [0.    0.017 0.034 0.076 0.127 0.186 0.237 0.576 0.619 0.754 0.814]\n",
      "샘플 임곗값별 TPR: [0.033 0.639 0.705 0.754 0.803 0.852 0.902 0.902 0.951 0.967 1.   ]\n"
     ]
    }
   ],
   "source": [
    "from sklearn.metrics import roc_curve\n",
    "\n",
    "# 레이블 값이 1일때의 예측 확률을 추출 \n",
    "pred_proba_class1 = lr_clf.predict_proba(X_test)[:, 1] \n",
    "\n",
    "fprs , tprs , thresholds = roc_curve(y_test, pred_proba_class1)\n",
    "thr_index = np.arange(1, thresholds.shape[0], 5)\n",
    "print(f'샘플 추출을 위한 임곗값 배열 index:{thr_index}')\n",
    "print(f'샘플 index로 추출한 임곗값:{np.round(thresholds[thr_index], 2)}')\n",
    "\n",
    "print(f'샘플 임곗값별 FPR: {np.round(fprs[thr_index], 3)}')\n",
    "print(f'샘플 임곗값별 TPR: {np.round(tprs[thr_index], 3)}')\n"
   ]
  },
  {
   "cell_type": "code",
   "execution_count": 62,
   "id": "6e9c5c14",
   "metadata": {
    "ExecuteTime": {
     "end_time": "2022-04-12T08:45:50.971059Z",
     "start_time": "2022-04-12T08:45:50.868617Z"
    },
    "scrolled": true
   },
   "outputs": [
    {
     "data": {
      "image/png": "[encoded data removed]",
      "text/plain": [
       "<Figure size 432x288 with 1 Axes>"
      ]
     },
     "metadata": {
      "needs_background": "light"
     },
     "output_type": "display_data"
    }
   ],
   "source": [
    "def roc_curve_plot(y_test , pred_proba_c1):\n",
    "    fprs , tprs , thresholds = roc_curve(y_test ,pred_proba_c1)\n",
    "\n",
    "    plt.plot(fprs , tprs, label='ROC')\n",
    "    plt.plot([0, 1], [0, 1], 'k--', label='Random')\n",
    "    \n",
    "    start, end = plt.xlim()\n",
    "    plt.xticks(np.round(np.arange(start, end, 0.1),2))\n",
    "    plt.xlim(0,1); plt.ylim(0,1)\n",
    "    plt.xlabel('FPR( 1 - Sensitivity )'); plt.ylabel('TPR( Recall )')\n",
    "    plt.legend()\n",
    "    plt.show()\n",
    "    \n",
    "roc_curve_plot(y_test, lr_clf.predict_proba(X_test)[:, 1] )\n"
   ]
  },
  {
   "cell_type": "code",
   "execution_count": 81,
   "id": "b1746e9e",
   "metadata": {
    "ExecuteTime": {
     "end_time": "2022-04-12T09:00:21.121905Z",
     "start_time": "2022-04-12T09:00:21.112728Z"
    },
    "scrolled": true
   },
   "outputs": [],
   "source": [
    "# plt.plot(fprs , tprs, label='ROC')\n",
    "# plt.plot([0, 1], [0, 1], 'k--', label='Random')\n",
    "    \n",
    "# # start, end = plt.xlim()\n",
    "# plt.xticks(np.round(np.arange(start, end, 0.2),2))\n",
    "# plt.xlim(0,1); plt.ylim(0,1)\n",
    "# plt.xlabel('FPR( 1 - Sensitivity )'); plt.ylabel('TPR( Recall )')\n",
    "# plt.legend()\n",
    "# plt.show()"
   ]
  },
  {
   "cell_type": "code",
   "execution_count": 64,
   "id": "3eb607ee",
   "metadata": {
    "ExecuteTime": {
     "end_time": "2022-04-12T08:49:59.623415Z",
     "start_time": "2022-04-12T08:49:59.601391Z"
    }
   },
   "outputs": [
    {
     "name": "stdout",
     "output_type": "stream",
     "text": [
      "ROC AUC 값: 0.8341\n"
     ]
    }
   ],
   "source": [
    "from sklearn.metrics import roc_auc_score\n",
    "\n",
    "pred = lr_clf.predict(X_test)\n",
    "roc_score = roc_auc_score(y_test, pred)\n",
    "print(f'ROC AUC 값: {roc_score:.4f}')"
   ]
  },
  {
   "cell_type": "code",
   "execution_count": null,
   "id": "243b70fb",
   "metadata": {},
   "outputs": [],
   "source": []
  }
 ],
 "metadata": {
  "hide_input": false,
  "kernelspec": {
   "display_name": "Python 3 (ipykernel)",
   "language": "python",
   "name": "python3"
  },
  "language_info": {
   "codemirror_mode": {
    "name": "ipython",
    "version": 3
   },
   "file_extension": ".py",
   "mimetype": "text/x-python",
   "name": "python",
   "nbconvert_exporter": "python",
   "pygments_lexer": "ipython3",
   "version": "3.9.7"
  },
  "toc": {
   "base_numbering": 1,
   "nav_menu": {},
   "number_sections": true,
   "sideBar": true,
   "skip_h1_title": false,
   "title_cell": "Table of Contents",
   "title_sidebar": "Contents",
   "toc_cell": false,
   "toc_position": {},
   "toc_section_display": true,
   "toc_window_display": false
  },
  "varInspector": {
   "cols": {
    "lenName": 16,
    "lenType": 16,
    "lenVar": 40
   },
   "kernels_config": {
    "python": {
     "delete_cmd_postfix": "",
     "delete_cmd_prefix": "del ",
     "library": "var_list.py",
     "varRefreshCmd": "print(var_dic_list())"
    },
    "r": {
     "delete_cmd_postfix": ") ",
     "delete_cmd_prefix": "rm(",
     "library": "var_list.r",
     "varRefreshCmd": "cat(var_dic_list()) "
    }
   },
   "types_to_exclude": [
    "module",
    "function",
    "builtin_function_or_method",
    "instance",
    "_Feature"
   ],
   "window_display": false
  }
 },
 "nbformat": 4,
 "nbformat_minor": 5
}
