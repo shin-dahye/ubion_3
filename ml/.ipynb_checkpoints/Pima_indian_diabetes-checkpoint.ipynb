{
 "cells": [
  {
   "cell_type": "code",
   "execution_count": 29,
   "id": "c76c9e98",
   "metadata": {
    "ExecuteTime": {
     "end_time": "2022-04-12T12:34:50.337567Z",
     "start_time": "2022-04-12T12:34:50.297592Z"
    }
   },
   "outputs": [
    {
     "name": "stdout",
     "output_type": "stream",
     "text": [
      "0    500\n",
      "1    268\n",
      "Name: Outcome, dtype: int64\n"
     ]
    },
    {
     "data": {
      "text/html": [
       "<div>\n",
       "<style scoped>\n",
       "    .dataframe tbody tr th:only-of-type {\n",
       "        vertical-align: middle;\n",
       "    }\n",
       "\n",
       "    .dataframe tbody tr th {\n",
       "        vertical-align: top;\n",
       "    }\n",
       "\n",
       "    .dataframe thead th {\n",
       "        text-align: right;\n",
       "    }\n",
       "</style>\n",
       "<table border=\"1\" class=\"dataframe\">\n",
       "  <thead>\n",
       "    <tr style=\"text-align: right;\">\n",
       "      <th></th>\n",
       "      <th>Pregnancies</th>\n",
       "      <th>Glucose</th>\n",
       "      <th>BloodPressure</th>\n",
       "      <th>SkinThickness</th>\n",
       "      <th>Insulin</th>\n",
       "      <th>BMI</th>\n",
       "      <th>DiabetesPedigreeFunction</th>\n",
       "      <th>Age</th>\n",
       "      <th>Outcome</th>\n",
       "    </tr>\n",
       "  </thead>\n",
       "  <tbody>\n",
       "    <tr>\n",
       "      <th>0</th>\n",
       "      <td>6</td>\n",
       "      <td>148</td>\n",
       "      <td>72</td>\n",
       "      <td>35</td>\n",
       "      <td>0</td>\n",
       "      <td>33.6</td>\n",
       "      <td>0.627</td>\n",
       "      <td>50</td>\n",
       "      <td>1</td>\n",
       "    </tr>\n",
       "    <tr>\n",
       "      <th>1</th>\n",
       "      <td>1</td>\n",
       "      <td>85</td>\n",
       "      <td>66</td>\n",
       "      <td>29</td>\n",
       "      <td>0</td>\n",
       "      <td>26.6</td>\n",
       "      <td>0.351</td>\n",
       "      <td>31</td>\n",
       "      <td>0</td>\n",
       "    </tr>\n",
       "    <tr>\n",
       "      <th>2</th>\n",
       "      <td>8</td>\n",
       "      <td>183</td>\n",
       "      <td>64</td>\n",
       "      <td>0</td>\n",
       "      <td>0</td>\n",
       "      <td>23.3</td>\n",
       "      <td>0.672</td>\n",
       "      <td>32</td>\n",
       "      <td>1</td>\n",
       "    </tr>\n",
       "  </tbody>\n",
       "</table>\n",
       "</div>"
      ],
      "text/plain": [
       "   Pregnancies  Glucose  BloodPressure  SkinThickness  Insulin   BMI  \\\n",
       "0            6      148             72             35        0  33.6   \n",
       "1            1       85             66             29        0  26.6   \n",
       "2            8      183             64              0        0  23.3   \n",
       "\n",
       "   DiabetesPedigreeFunction  Age  Outcome  \n",
       "0                     0.627   50        1  \n",
       "1                     0.351   31        0  \n",
       "2                     0.672   32        1  "
      ]
     },
     "execution_count": 29,
     "metadata": {},
     "output_type": "execute_result"
    }
   ],
   "source": [
    "import numpy as np\n",
    "import pandas as pd\n",
    "import matplotlib.pyplot as plt\n",
    "%matplotlib inline\n",
    "\n",
    "from sklearn.model_selection import train_test_split\n",
    "from sklearn.metrics import accuracy_score, precision_score, recall_score, roc_auc_score\n",
    "from sklearn.metrics import f1_score, confusion_matrix, precision_recall_curve, roc_curve\n",
    "from sklearn.preprocessing import StandardScaler\n",
    "from sklearn.linear_model import LogisticRegression\n",
    "\n",
    "diabetes_data=pd.read_csv('datasets/diabetes.csv')\n",
    "print(diabetes_data['Outcome'].value_counts())\n",
    "diabetes_data.head(3)"
   ]
  },
  {
   "cell_type": "markdown",
   "id": "9780ef61",
   "metadata": {},
   "source": [
    "* pregnancies : 임신횟수 / glucose : 포도당 부하 검사 수치 \\\n",
    "bloodpreasure : 혈압 / skinthickness : 팔 삼두근 뒤쪽 피하지방 측정값 \\\n",
    "insulin : 혈청 인슐린 / bmi : 체질량지수 / diabetespedigreefunction : 당뇨 내력 가중치 값 \\\n",
    "age : 나이 / outcome : 클래스 결정 (0또는1)"
   ]
  },
  {
   "cell_type": "code",
   "execution_count": 30,
   "id": "1565ea4c",
   "metadata": {
    "ExecuteTime": {
     "end_time": "2022-04-12T12:34:51.343076Z",
     "start_time": "2022-04-12T12:34:51.321430Z"
    }
   },
   "outputs": [
    {
     "name": "stdout",
     "output_type": "stream",
     "text": [
      "<class 'pandas.core.frame.DataFrame'>\n",
      "RangeIndex: 768 entries, 0 to 767\n",
      "Data columns (total 9 columns):\n",
      " #   Column                    Non-Null Count  Dtype  \n",
      "---  ------                    --------------  -----  \n",
      " 0   Pregnancies               768 non-null    int64  \n",
      " 1   Glucose                   768 non-null    int64  \n",
      " 2   BloodPressure             768 non-null    int64  \n",
      " 3   SkinThickness             768 non-null    int64  \n",
      " 4   Insulin                   768 non-null    int64  \n",
      " 5   BMI                       768 non-null    float64\n",
      " 6   DiabetesPedigreeFunction  768 non-null    float64\n",
      " 7   Age                       768 non-null    int64  \n",
      " 8   Outcome                   768 non-null    int64  \n",
      "dtypes: float64(2), int64(7)\n",
      "memory usage: 54.1 KB\n"
     ]
    }
   ],
   "source": [
    "diabetes_data.info()"
   ]
  },
  {
   "cell_type": "code",
   "execution_count": 31,
   "id": "39aeb1f6",
   "metadata": {
    "ExecuteTime": {
     "end_time": "2022-04-12T12:34:52.087936Z",
     "start_time": "2022-04-12T12:34:51.996747Z"
    }
   },
   "outputs": [
    {
     "name": "stdout",
     "output_type": "stream",
     "text": [
      "오차행렬\n",
      "[[88 12]\n",
      " [23 31]]\n",
      "정확도 : 0.7727, 정밀도 : 0.7209, 재현율 : 0.5741,F1 : 0.6392, AUC : 0.7919\n"
     ]
    },
    {
     "name": "stderr",
     "output_type": "stream",
     "text": [
      "C:\\Users\\da_hye\\anaconda3\\lib\\site-packages\\sklearn\\linear_model\\_logistic.py:814: ConvergenceWarning: lbfgs failed to converge (status=1):\n",
      "STOP: TOTAL NO. of ITERATIONS REACHED LIMIT.\n",
      "\n",
      "Increase the number of iterations (max_iter) or scale the data as shown in:\n",
      "    https://scikit-learn.org/stable/modules/preprocessing.html\n",
      "Please also refer to the documentation for alternative solver options:\n",
      "    https://scikit-learn.org/stable/modules/linear_model.html#logistic-regression\n",
      "  n_iter_i = _check_optimize_result(\n"
     ]
    }
   ],
   "source": [
    "from modules import g\n",
    "\n",
    "#피처 데이터 셋 X, 레이블 데이터 셋 y\n",
    "X = diabetes_data.iloc[:,:-1]\n",
    "y = diabetes_data.iloc[:,-1]\n",
    "# stratify 파라미터 -> 원래 y 값들의 비율 유지 시키면서 분할\n",
    "X_train, X_test, y_train, y_test = train_test_split(X, y, test_size=0.2, random_state=156, stratify=y)\n",
    "\n",
    "#로지스틱 회귀로 학습, 예측, 평가\n",
    "lr_clf = LogisticRegression()\n",
    "lr_clf.fit(X_train, y_train)\n",
    "pred = lr_clf.predict(X_test)\n",
    "pred_proba = lr_clf.predict_proba(X_test)[:,1]\n",
    "\n",
    "g.get_clf_eval(y_test,pred,pred_proba)"
   ]
  },
  {
   "cell_type": "code",
   "execution_count": 34,
   "id": "5789dab9",
   "metadata": {
    "ExecuteTime": {
     "end_time": "2022-04-12T12:35:32.449667Z",
     "start_time": "2022-04-12T12:35:31.922437Z"
    }
   },
   "outputs": [
    {
     "data": {
      "image/png": "[encoded data removed]",
      "text/plain": [
       "<Figure size 576x432 with 1 Axes>"
      ]
     },
     "metadata": {
      "needs_background": "light"
     },
     "output_type": "display_data"
    }
   ],
   "source": [
    "from sklearn.metrics import precision_recall_curve\n",
    "import imp\n",
    "imp.reload(g)\n",
    "\n",
    "pred_proba_c1 = lr_clf.predict_proba(X_test)[:,1]\n",
    "g.precision_recall_curve_plot(y_test,pred_proba_c1)"
   ]
  },
  {
   "cell_type": "code",
   "execution_count": 35,
   "id": "235340fa",
   "metadata": {
    "ExecuteTime": {
     "end_time": "2022-04-12T12:36:18.293470Z",
     "start_time": "2022-04-12T12:36:18.219553Z"
    }
   },
   "outputs": [
    {
     "data": {
      "text/html": [
       "<div>\n",
       "<style scoped>\n",
       "    .dataframe tbody tr th:only-of-type {\n",
       "        vertical-align: middle;\n",
       "    }\n",
       "\n",
       "    .dataframe tbody tr th {\n",
       "        vertical-align: top;\n",
       "    }\n",
       "\n",
       "    .dataframe thead th {\n",
       "        text-align: right;\n",
       "    }\n",
       "</style>\n",
       "<table border=\"1\" class=\"dataframe\">\n",
       "  <thead>\n",
       "    <tr style=\"text-align: right;\">\n",
       "      <th></th>\n",
       "      <th>Pregnancies</th>\n",
       "      <th>Glucose</th>\n",
       "      <th>BloodPressure</th>\n",
       "      <th>SkinThickness</th>\n",
       "      <th>Insulin</th>\n",
       "      <th>BMI</th>\n",
       "      <th>DiabetesPedigreeFunction</th>\n",
       "      <th>Age</th>\n",
       "      <th>Outcome</th>\n",
       "    </tr>\n",
       "  </thead>\n",
       "  <tbody>\n",
       "    <tr>\n",
       "      <th>count</th>\n",
       "      <td>768.000000</td>\n",
       "      <td>768.000000</td>\n",
       "      <td>768.000000</td>\n",
       "      <td>768.000000</td>\n",
       "      <td>768.000000</td>\n",
       "      <td>768.000000</td>\n",
       "      <td>768.000000</td>\n",
       "      <td>768.000000</td>\n",
       "      <td>768.000000</td>\n",
       "    </tr>\n",
       "    <tr>\n",
       "      <th>mean</th>\n",
       "      <td>3.845052</td>\n",
       "      <td>120.894531</td>\n",
       "      <td>69.105469</td>\n",
       "      <td>20.536458</td>\n",
       "      <td>79.799479</td>\n",
       "      <td>31.992578</td>\n",
       "      <td>0.471876</td>\n",
       "      <td>33.240885</td>\n",
       "      <td>0.348958</td>\n",
       "    </tr>\n",
       "    <tr>\n",
       "      <th>std</th>\n",
       "      <td>3.369578</td>\n",
       "      <td>31.972618</td>\n",
       "      <td>19.355807</td>\n",
       "      <td>15.952218</td>\n",
       "      <td>115.244002</td>\n",
       "      <td>7.884160</td>\n",
       "      <td>0.331329</td>\n",
       "      <td>11.760232</td>\n",
       "      <td>0.476951</td>\n",
       "    </tr>\n",
       "    <tr>\n",
       "      <th>min</th>\n",
       "      <td>0.000000</td>\n",
       "      <td>0.000000</td>\n",
       "      <td>0.000000</td>\n",
       "      <td>0.000000</td>\n",
       "      <td>0.000000</td>\n",
       "      <td>0.000000</td>\n",
       "      <td>0.078000</td>\n",
       "      <td>21.000000</td>\n",
       "      <td>0.000000</td>\n",
       "    </tr>\n",
       "    <tr>\n",
       "      <th>25%</th>\n",
       "      <td>1.000000</td>\n",
       "      <td>99.000000</td>\n",
       "      <td>62.000000</td>\n",
       "      <td>0.000000</td>\n",
       "      <td>0.000000</td>\n",
       "      <td>27.300000</td>\n",
       "      <td>0.243750</td>\n",
       "      <td>24.000000</td>\n",
       "      <td>0.000000</td>\n",
       "    </tr>\n",
       "    <tr>\n",
       "      <th>50%</th>\n",
       "      <td>3.000000</td>\n",
       "      <td>117.000000</td>\n",
       "      <td>72.000000</td>\n",
       "      <td>23.000000</td>\n",
       "      <td>30.500000</td>\n",
       "      <td>32.000000</td>\n",
       "      <td>0.372500</td>\n",
       "      <td>29.000000</td>\n",
       "      <td>0.000000</td>\n",
       "    </tr>\n",
       "    <tr>\n",
       "      <th>75%</th>\n",
       "      <td>6.000000</td>\n",
       "      <td>140.250000</td>\n",
       "      <td>80.000000</td>\n",
       "      <td>32.000000</td>\n",
       "      <td>127.250000</td>\n",
       "      <td>36.600000</td>\n",
       "      <td>0.626250</td>\n",
       "      <td>41.000000</td>\n",
       "      <td>1.000000</td>\n",
       "    </tr>\n",
       "    <tr>\n",
       "      <th>max</th>\n",
       "      <td>17.000000</td>\n",
       "      <td>199.000000</td>\n",
       "      <td>122.000000</td>\n",
       "      <td>99.000000</td>\n",
       "      <td>846.000000</td>\n",
       "      <td>67.100000</td>\n",
       "      <td>2.420000</td>\n",
       "      <td>81.000000</td>\n",
       "      <td>1.000000</td>\n",
       "    </tr>\n",
       "  </tbody>\n",
       "</table>\n",
       "</div>"
      ],
      "text/plain": [
       "       Pregnancies     Glucose  BloodPressure  SkinThickness     Insulin  \\\n",
       "count   768.000000  768.000000     768.000000     768.000000  768.000000   \n",
       "mean      3.845052  120.894531      69.105469      20.536458   79.799479   \n",
       "std       3.369578   31.972618      19.355807      15.952218  115.244002   \n",
       "min       0.000000    0.000000       0.000000       0.000000    0.000000   \n",
       "25%       1.000000   99.000000      62.000000       0.000000    0.000000   \n",
       "50%       3.000000  117.000000      72.000000      23.000000   30.500000   \n",
       "75%       6.000000  140.250000      80.000000      32.000000  127.250000   \n",
       "max      17.000000  199.000000     122.000000      99.000000  846.000000   \n",
       "\n",
       "              BMI  DiabetesPedigreeFunction         Age     Outcome  \n",
       "count  768.000000                768.000000  768.000000  768.000000  \n",
       "mean    31.992578                  0.471876   33.240885    0.348958  \n",
       "std      7.884160                  0.331329   11.760232    0.476951  \n",
       "min      0.000000                  0.078000   21.000000    0.000000  \n",
       "25%     27.300000                  0.243750   24.000000    0.000000  \n",
       "50%     32.000000                  0.372500   29.000000    0.000000  \n",
       "75%     36.600000                  0.626250   41.000000    1.000000  \n",
       "max     67.100000                  2.420000   81.000000    1.000000  "
      ]
     },
     "execution_count": 35,
     "metadata": {},
     "output_type": "execute_result"
    }
   ],
   "source": [
    "diabetes_data.describe()"
   ]
  },
  {
   "cell_type": "code",
   "execution_count": 36,
   "id": "e659e1c4",
   "metadata": {
    "ExecuteTime": {
     "end_time": "2022-04-12T12:36:36.509311Z",
     "start_time": "2022-04-12T12:36:36.135420Z"
    }
   },
   "outputs": [
    {
     "data": {
      "text/plain": [
       "(array([  5.,   0.,   4.,  32., 156., 211., 163.,  95.,  56.,  46.]),\n",
       " array([  0. ,  19.9,  39.8,  59.7,  79.6,  99.5, 119.4, 139.3, 159.2,\n",
       "        179.1, 199. ]),\n",
       " <BarContainer object of 10 artists>)"
      ]
     },
     "execution_count": 36,
     "metadata": {},
     "output_type": "execute_result"
    },
    {
     "data": {
      "image/png": "[encoded data removed]",
      "text/plain": [
       "<Figure size 432x288 with 1 Axes>"
      ]
     },
     "metadata": {
      "needs_background": "light"
     },
     "output_type": "display_data"
    }
   ],
   "source": [
    "plt.hist(diabetes_data['Glucose'],bins=10)"
   ]
  },
  {
   "cell_type": "code",
   "execution_count": 48,
   "id": "fab09207",
   "metadata": {
    "ExecuteTime": {
     "end_time": "2022-04-12T15:03:30.187479Z",
     "start_time": "2022-04-12T15:03:30.170566Z"
    }
   },
   "outputs": [
    {
     "name": "stdout",
     "output_type": "stream",
     "text": [
      "Glucose 0 건수는 5, 퍼센트는 0.65%\n",
      "BloodPressure 0 건수는 35, 퍼센트는 4.56%\n",
      "SkinThickness 0 건수는 227, 퍼센트는 29.56%\n",
      "Insulin 0 건수는 374, 퍼센트는 48.70%\n",
      "BMI 0 건수는 11, 퍼센트는 1.43%\n"
     ]
    }
   ],
   "source": [
    "#0값을 검사할 피처명 리스트 객체 설정\n",
    "zero_features=['Glucose','BloodPressure','SkinThickness','Insulin','BMI']\n",
    "total_count = diabetes_data['Glucose'].count()\n",
    "\n",
    "for feature in zero_features:\n",
    "    zero_count = diabetes_data[diabetes_data[feature] == 0][feature].count()\n",
    "    print(f'{feature} 0 건수는 {zero_count}, 퍼센트는 {100*zero_count/total_count:.2f}%')\n"
   ]
  },
  {
   "cell_type": "code",
   "execution_count": 46,
   "id": "696301a4",
   "metadata": {
    "ExecuteTime": {
     "end_time": "2022-04-12T15:01:19.785576Z",
     "start_time": "2022-04-12T15:01:19.754521Z"
    },
    "collapsed": true
   },
   "outputs": [
    {
     "data": {
      "text/html": [
       "<div>\n",
       "<style scoped>\n",
       "    .dataframe tbody tr th:only-of-type {\n",
       "        vertical-align: middle;\n",
       "    }\n",
       "\n",
       "    .dataframe tbody tr th {\n",
       "        vertical-align: top;\n",
       "    }\n",
       "\n",
       "    .dataframe thead th {\n",
       "        text-align: right;\n",
       "    }\n",
       "</style>\n",
       "<table border=\"1\" class=\"dataframe\">\n",
       "  <thead>\n",
       "    <tr style=\"text-align: right;\">\n",
       "      <th></th>\n",
       "      <th>Pregnancies</th>\n",
       "      <th>Glucose</th>\n",
       "      <th>BloodPressure</th>\n",
       "      <th>SkinThickness</th>\n",
       "      <th>Insulin</th>\n",
       "      <th>BMI</th>\n",
       "      <th>DiabetesPedigreeFunction</th>\n",
       "      <th>Age</th>\n",
       "      <th>Outcome</th>\n",
       "    </tr>\n",
       "  </thead>\n",
       "  <tbody>\n",
       "    <tr>\n",
       "      <th>75</th>\n",
       "      <td>1</td>\n",
       "      <td>0</td>\n",
       "      <td>48</td>\n",
       "      <td>20</td>\n",
       "      <td>0</td>\n",
       "      <td>24.7</td>\n",
       "      <td>0.140</td>\n",
       "      <td>22</td>\n",
       "      <td>0</td>\n",
       "    </tr>\n",
       "    <tr>\n",
       "      <th>182</th>\n",
       "      <td>1</td>\n",
       "      <td>0</td>\n",
       "      <td>74</td>\n",
       "      <td>20</td>\n",
       "      <td>23</td>\n",
       "      <td>27.7</td>\n",
       "      <td>0.299</td>\n",
       "      <td>21</td>\n",
       "      <td>0</td>\n",
       "    </tr>\n",
       "    <tr>\n",
       "      <th>342</th>\n",
       "      <td>1</td>\n",
       "      <td>0</td>\n",
       "      <td>68</td>\n",
       "      <td>35</td>\n",
       "      <td>0</td>\n",
       "      <td>32.0</td>\n",
       "      <td>0.389</td>\n",
       "      <td>22</td>\n",
       "      <td>0</td>\n",
       "    </tr>\n",
       "    <tr>\n",
       "      <th>349</th>\n",
       "      <td>5</td>\n",
       "      <td>0</td>\n",
       "      <td>80</td>\n",
       "      <td>32</td>\n",
       "      <td>0</td>\n",
       "      <td>41.0</td>\n",
       "      <td>0.346</td>\n",
       "      <td>37</td>\n",
       "      <td>1</td>\n",
       "    </tr>\n",
       "    <tr>\n",
       "      <th>502</th>\n",
       "      <td>6</td>\n",
       "      <td>0</td>\n",
       "      <td>68</td>\n",
       "      <td>41</td>\n",
       "      <td>0</td>\n",
       "      <td>39.0</td>\n",
       "      <td>0.727</td>\n",
       "      <td>41</td>\n",
       "      <td>1</td>\n",
       "    </tr>\n",
       "  </tbody>\n",
       "</table>\n",
       "</div>"
      ],
      "text/plain": [
       "     Pregnancies  Glucose  BloodPressure  SkinThickness  Insulin   BMI  \\\n",
       "75             1        0             48             20        0  24.7   \n",
       "182            1        0             74             20       23  27.7   \n",
       "342            1        0             68             35        0  32.0   \n",
       "349            5        0             80             32        0  41.0   \n",
       "502            6        0             68             41        0  39.0   \n",
       "\n",
       "     DiabetesPedigreeFunction  Age  Outcome  \n",
       "75                      0.140   22        0  \n",
       "182                     0.299   21        0  \n",
       "342                     0.389   22        0  \n",
       "349                     0.346   37        1  \n",
       "502                     0.727   41        1  "
      ]
     },
     "execution_count": 46,
     "metadata": {},
     "output_type": "execute_result"
    }
   ],
   "source": [
    "diabetes_data[diabetes_data['Glucose'] == 0]"
   ]
  },
  {
   "cell_type": "code",
   "execution_count": 47,
   "id": "4d0946e4",
   "metadata": {
    "ExecuteTime": {
     "end_time": "2022-04-12T15:01:33.310919Z",
     "start_time": "2022-04-12T15:01:33.292083Z"
    },
    "collapsed": true
   },
   "outputs": [
    {
     "data": {
      "text/plain": [
       "0      False\n",
       "1      False\n",
       "2      False\n",
       "3      False\n",
       "4      False\n",
       "       ...  \n",
       "763    False\n",
       "764    False\n",
       "765    False\n",
       "766    False\n",
       "767    False\n",
       "Name: Glucose, Length: 768, dtype: bool"
      ]
     },
     "execution_count": 47,
     "metadata": {},
     "output_type": "execute_result"
    }
   ],
   "source": [
    "diabetes_data['Glucose'] == 0"
   ]
  },
  {
   "cell_type": "code",
   "execution_count": 50,
   "id": "bc6120d2",
   "metadata": {
    "ExecuteTime": {
     "end_time": "2022-04-12T15:19:51.966056Z",
     "start_time": "2022-04-12T15:19:51.930141Z"
    }
   },
   "outputs": [],
   "source": [
    "#0값 평균값으로 대체\n",
    "diabetes_data[zero_features]=diabetes_data[zero_features].replace(0, diabetes_data[zero_features].mean())"
   ]
  },
  {
   "cell_type": "code",
   "execution_count": 65,
   "id": "9b6d7a0c",
   "metadata": {
    "ExecuteTime": {
     "end_time": "2022-04-12T15:40:04.326620Z",
     "start_time": "2022-04-12T15:40:04.301710Z"
    }
   },
   "outputs": [
    {
     "data": {
      "text/plain": [
       "<module 'modules.g' from 'C:\\\\apps\\\\ml\\\\modules\\\\g.py'>"
      ]
     },
     "execution_count": 65,
     "metadata": {},
     "output_type": "execute_result"
    }
   ],
   "source": [
    "import imp\n",
    "imp.reload(g)"
   ]
  },
  {
   "cell_type": "code",
   "execution_count": 64,
   "id": "64164a2a",
   "metadata": {
    "ExecuteTime": {
     "end_time": "2022-04-12T15:36:47.777374Z",
     "start_time": "2022-04-12T15:36:47.736045Z"
    }
   },
   "outputs": [
    {
     "name": "stdout",
     "output_type": "stream",
     "text": [
      "오차행렬\n",
      "[[90 10]\n",
      " [21 33]]\n",
      "정확도 : 0.7987, 정밀도 : 0.7674, 재현율 : 0.6111,F1 : 0.6804, AUC : 0.8433\n"
     ]
    }
   ],
   "source": [
    "X = diabetes_data.iloc[:,:-1]\n",
    "y = diabetes_data.iloc[:,-1]\n",
    "\n",
    "#standardscaler 클래스 이용해 피처 데이터 셋에 일괄적으로 스케일링 적용\n",
    "scaler = StandardScaler()\n",
    "X_scaled = scaler.fit_transform(X)\n",
    "\n",
    "X_train, X_test, y_train, y_test = train_test_split(X_scaled,y,test_size=0.2,random_state=156,stratify=y)\n",
    "\n",
    "lr_clf = LogisticRegression()\n",
    "lr_clf.fit(X_train,y_train)\n",
    "pred=lr_clf.predict(X_test)\n",
    "pred_proba = lr_clf.predict_proba(X_test)[:,1]\n",
    "\n",
    "g.get_clf_eval(y_test,pred,pred_proba)"
   ]
  },
  {
   "cell_type": "code",
   "execution_count": 58,
   "id": "b91d281d",
   "metadata": {
    "ExecuteTime": {
     "end_time": "2022-04-12T15:28:45.655521Z",
     "start_time": "2022-04-12T15:28:45.637719Z"
    },
    "collapsed": true
   },
   "outputs": [
    {
     "data": {
      "text/plain": [
       "(768, 8)"
      ]
     },
     "execution_count": 58,
     "metadata": {},
     "output_type": "execute_result"
    }
   ],
   "source": [
    "X_scaled.shape"
   ]
  },
  {
   "cell_type": "code",
   "execution_count": 66,
   "id": "2f756a46",
   "metadata": {
    "ExecuteTime": {
     "end_time": "2022-04-12T15:43:35.200527Z",
     "start_time": "2022-04-12T15:43:35.092647Z"
    }
   },
   "outputs": [
    {
     "name": "stdout",
     "output_type": "stream",
     "text": [
      "임곗값: 0.3\n",
      "오차행렬\n",
      "[[67 33]\n",
      " [11 43]]\n",
      "정확도 : 0.7143, 정밀도 : 0.5658, 재현율 : 0.7963,F1 : 0.6615, AUC : 0.8433\n",
      "임곗값: 0.33\n",
      "오차행렬\n",
      "[[72 28]\n",
      " [12 42]]\n",
      "정확도 : 0.7403, 정밀도 : 0.6000, 재현율 : 0.7778,F1 : 0.6774, AUC : 0.8433\n",
      "임곗값: 0.36\n",
      "오차행렬\n",
      "[[76 24]\n",
      " [15 39]]\n",
      "정확도 : 0.7468, 정밀도 : 0.6190, 재현율 : 0.7222,F1 : 0.6667, AUC : 0.8433\n",
      "임곗값: 0.39\n",
      "오차행렬\n",
      "[[78 22]\n",
      " [16 38]]\n",
      "정확도 : 0.7532, 정밀도 : 0.6333, 재현율 : 0.7037,F1 : 0.6667, AUC : 0.8433\n",
      "임곗값: 0.42\n",
      "오차행렬\n",
      "[[84 16]\n",
      " [18 36]]\n",
      "정확도 : 0.7792, 정밀도 : 0.6923, 재현율 : 0.6667,F1 : 0.6792, AUC : 0.8433\n",
      "임곗값: 0.45\n",
      "오차행렬\n",
      "[[85 15]\n",
      " [18 36]]\n",
      "정확도 : 0.7857, 정밀도 : 0.7059, 재현율 : 0.6667,F1 : 0.6857, AUC : 0.8433\n",
      "임곗값: 0.48\n",
      "오차행렬\n",
      "[[88 12]\n",
      " [19 35]]\n",
      "정확도 : 0.7987, 정밀도 : 0.7447, 재현율 : 0.6481,F1 : 0.6931, AUC : 0.8433\n",
      "임곗값: 0.5\n",
      "오차행렬\n",
      "[[90 10]\n",
      " [21 33]]\n",
      "정확도 : 0.7987, 정밀도 : 0.7674, 재현율 : 0.6111,F1 : 0.6804, AUC : 0.8433\n"
     ]
    }
   ],
   "source": [
    "from sklearn.preprocessing import Binarizer\n",
    "\n",
    "thresholds = [0.3, 0.33, 0.36, 0.39, 0.42, 0.45, 0.48, 0.50]\n",
    "pred_proba = lr_clf.predict_proba(X_test)\n",
    "g.get_eval_by_threshold(y_test, pred_proba[:,1].reshape(-1,1),thresholds)"
   ]
  },
  {
   "cell_type": "code",
   "execution_count": 67,
   "id": "c43cbea7",
   "metadata": {
    "ExecuteTime": {
     "end_time": "2022-04-12T15:46:16.761387Z",
     "start_time": "2022-04-12T15:46:16.734244Z"
    }
   },
   "outputs": [
    {
     "name": "stdout",
     "output_type": "stream",
     "text": [
      "오차행렬\n",
      "[[88 12]\n",
      " [19 35]]\n",
      "정확도 : 0.7987, 정밀도 : 0.7447, 재현율 : 0.6481,F1 : 0.6931, AUC : 0.8433\n"
     ]
    }
   ],
   "source": [
    "binarizer = Binarizer(threshold=0.48)\n",
    "pred_th_048 = binarizer.fit_transform(pred_proba[:,1].reshape(-1,1))\n",
    "g.get_clf_eval(y_test,pred_th_048,pred_proba[:,1])"
   ]
  },
  {
   "cell_type": "code",
   "execution_count": null,
   "id": "7d1a5b81",
   "metadata": {},
   "outputs": [],
   "source": []
  }
 ],
 "metadata": {
  "hide_input": false,
  "kernelspec": {
   "display_name": "Python 3 (ipykernel)",
   "language": "python",
   "name": "python3"
  },
  "language_info": {
   "codemirror_mode": {
    "name": "ipython",
    "version": 3
   },
   "file_extension": ".py",
   "mimetype": "text/x-python",
   "name": "python",
   "nbconvert_exporter": "python",
   "pygments_lexer": "ipython3",
   "version": "3.9.7"
  },
  "toc": {
   "base_numbering": 1,
   "nav_menu": {},
   "number_sections": true,
   "sideBar": true,
   "skip_h1_title": false,
   "title_cell": "Table of Contents",
   "title_sidebar": "Contents",
   "toc_cell": false,
   "toc_position": {},
   "toc_section_display": true,
   "toc_window_display": false
  },
  "varInspector": {
   "cols": {
    "lenName": 16,
    "lenType": 16,
    "lenVar": 40
   },
   "kernels_config": {
    "python": {
     "delete_cmd_postfix": "",
     "delete_cmd_prefix": "del ",
     "library": "var_list.py",
     "varRefreshCmd": "print(var_dic_list())"
    },
    "r": {
     "delete_cmd_postfix": ") ",
     "delete_cmd_prefix": "rm(",
     "library": "var_list.r",
     "varRefreshCmd": "cat(var_dic_list()) "
    }
   },
   "types_to_exclude": [
    "module",
    "function",
    "builtin_function_or_method",
    "instance",
    "_Feature"
   ],
   "window_display": false
  }
 },
 "nbformat": 4,
 "nbformat_minor": 5
}
